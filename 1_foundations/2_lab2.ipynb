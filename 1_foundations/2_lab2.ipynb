{
 "cells": [
  {
   "cell_type": "markdown",
   "metadata": {},
   "source": [
    "## Welcome to the Second Lab - Week 1, Day 3\n",
    "\n",
    "Today we will work with lots of models! This is a way to get comfortable with APIs."
   ]
  },
  {
   "cell_type": "markdown",
   "metadata": {},
   "source": [
    "<table style=\"margin: 0; text-align: left; width:100%\">\n",
    "    <tr>\n",
    "        <td style=\"width: 150px; height: 150px; vertical-align: middle;\">\n",
    "            <img src=\"../assets/stop.png\" width=\"150\" height=\"150\" style=\"display: block;\" />\n",
    "        </td>\n",
    "        <td>\n",
    "            <h2 style=\"color:#ff7800;\">Important point - please read</h2>\n",
    "            <span style=\"color:#ff7800;\">The way I collaborate with you may be different to other courses you've taken. I prefer not to type code while you watch. Rather, I execute Jupyter Labs, like this, and give you an intuition for what's going on. My suggestion is that you carefully execute this yourself, <b>after</b> watching the lecture. Add print statements to understand what's going on, and then come up with your own variations.<br/><br/>If you have time, I'd love it if you submit a PR for changes in the community_contributions folder - instructions in the resources. Also, if you have a Github account, use this to showcase your variations. Not only is this essential practice, but it demonstrates your skills to others, including perhaps future clients or employers...\n",
    "            </span>\n",
    "        </td>\n",
    "    </tr>\n",
    "</table>"
   ]
  },
  {
   "cell_type": "code",
   "execution_count": 1,
   "metadata": {},
   "outputs": [],
   "source": [
    "# Start with imports - ask ChatGPT to explain any package that you don't know\n",
    "\n",
    "import os\n",
    "import json\n",
    "from dotenv import load_dotenv\n",
    "from openai import OpenAI\n",
    "from anthropic import Anthropic\n",
    "from IPython.display import Markdown, display"
   ]
  },
  {
   "cell_type": "code",
   "execution_count": 2,
   "metadata": {},
   "outputs": [
    {
     "data": {
      "text/plain": [
       "True"
      ]
     },
     "execution_count": 2,
     "metadata": {},
     "output_type": "execute_result"
    }
   ],
   "source": [
    "# Always remember to do this!\n",
    "load_dotenv(override=True)"
   ]
  },
  {
   "cell_type": "code",
   "execution_count": 3,
   "metadata": {},
   "outputs": [
    {
     "name": "stdout",
     "output_type": "stream",
     "text": [
      "OpenAI API Key exists and begins sk-proj-\n",
      "Anthropic API Key exists and begins sk-ant-\n",
      "Google API Key exists and begins AI\n",
      "DeepSeek API Key not set (and this is optional)\n",
      "Groq API Key not set (and this is optional)\n"
     ]
    }
   ],
   "source": [
    "# Print the key prefixes to help with any debugging\n",
    "\n",
    "openai_api_key = os.getenv('OPENAI_API_KEY')\n",
    "anthropic_api_key = os.getenv('ANTHROPIC_API_KEY')\n",
    "google_api_key = os.getenv('GOOGLE_API_KEY')\n",
    "deepseek_api_key = os.getenv('DEEPSEEK_API_KEY')\n",
    "groq_api_key = os.getenv('GROQ_API_KEY')\n",
    "\n",
    "if openai_api_key:\n",
    "    print(f\"OpenAI API Key exists and begins {openai_api_key[:8]}\")\n",
    "else:\n",
    "    print(\"OpenAI API Key not set\")\n",
    "    \n",
    "if anthropic_api_key:\n",
    "    print(f\"Anthropic API Key exists and begins {anthropic_api_key[:7]}\")\n",
    "else:\n",
    "    print(\"Anthropic API Key not set (and this is optional)\")\n",
    "\n",
    "if google_api_key:\n",
    "    print(f\"Google API Key exists and begins {google_api_key[:2]}\")\n",
    "else:\n",
    "    print(\"Google API Key not set (and this is optional)\")\n",
    "\n",
    "if deepseek_api_key:\n",
    "    print(f\"DeepSeek API Key exists and begins {deepseek_api_key[:3]}\")\n",
    "else:\n",
    "    print(\"DeepSeek API Key not set (and this is optional)\")\n",
    "\n",
    "if groq_api_key:\n",
    "    print(f\"Groq API Key exists and begins {groq_api_key[:4]}\")\n",
    "else:\n",
    "    print(\"Groq API Key not set (and this is optional)\")"
   ]
  },
  {
   "cell_type": "code",
   "execution_count": 4,
   "metadata": {},
   "outputs": [],
   "source": [
    "request = \"Please come up with a challenging, nuanced question that I can ask a number of LLMs to evaluate their intelligence. \"\n",
    "request += \"Answer only with the question, no explanation.\"\n",
    "messages = [{\"role\": \"user\", \"content\": request}]"
   ]
  },
  {
   "cell_type": "code",
   "execution_count": 5,
   "metadata": {},
   "outputs": [
    {
     "data": {
      "text/plain": [
       "[{'role': 'user',\n",
       "  'content': 'Please come up with a challenging, nuanced question that I can ask a number of LLMs to evaluate their intelligence. Answer only with the question, no explanation.'}]"
      ]
     },
     "execution_count": 5,
     "metadata": {},
     "output_type": "execute_result"
    }
   ],
   "source": [
    "messages"
   ]
  },
  {
   "cell_type": "code",
   "execution_count": 6,
   "metadata": {},
   "outputs": [
    {
     "name": "stdout",
     "output_type": "stream",
     "text": [
      "If you could redesign a societal norm or law that is widely accepted but potentially harmful, what would it be and how would you advocate for its change while considering the diverse perspectives and potential resistance from various stakeholders?\n"
     ]
    }
   ],
   "source": [
    "openai = OpenAI()\n",
    "response = openai.chat.completions.create(\n",
    "    model=\"gpt-4o-mini\",\n",
    "    messages=messages,\n",
    ")\n",
    "question = response.choices[0].message.content\n",
    "print(question)\n"
   ]
  },
  {
   "cell_type": "code",
   "execution_count": 7,
   "metadata": {},
   "outputs": [],
   "source": [
    "competitors = []\n",
    "answers = []\n",
    "messages = [{\"role\": \"user\", \"content\": question}]"
   ]
  },
  {
   "cell_type": "code",
   "execution_count": 8,
   "metadata": {},
   "outputs": [
    {
     "data": {
      "text/markdown": [
       "One societal norm that could benefit from re-evaluation is the stigma surrounding mental health issues, particularly in the workplace. This stigma often leads to discrimination, lack of support, and inadequate policies for employees suffering from mental health challenges. A potential redesign of this norm would involve promoting a culture of openness and support surrounding mental health, thereby normalizing discussions and providing necessary resources.\n",
       "\n",
       "### Redesign Proposal:\n",
       "**1. Mandated Mental Health Training:** Require organizations to provide mental health training for all employees, promoting awareness and understanding of mental health issues. This training would educate workers on recognizing signs of mental health struggles in themselves and others and provide strategies to offer support.\n",
       "\n",
       "**2. Flexible Mental Health Policies:** Advocate for policies that allow for mental health days off, just like physical health days, and promote flexible working hours to accommodate individuals seeking treatment or needing time for self-care.\n",
       "\n",
       "**3. Establish a Support System:** Create a peer support program within organizations, allowing employees to discuss their mental health concerns in a safe, confidential space. This could include trained volunteers or mental health champions from within the company.\n",
       "\n",
       "### Advocacy Strategy:\n",
       "**1. Grassroots Campaigns:**\n",
       "   - **Workshops and Seminars:** Organize community workshops and seminars aimed at educating individuals on mental health, inviting mental health professionals to speak and share their insights.\n",
       "   - **Leverage Social Media:** Launch a campaign using platforms like Twitter, Instagram, and TikTok to share stories and raise awareness about mental health, using hashtags to connect and build a community.\n",
       "\n",
       "**2. Engage Stakeholders:**\n",
       "   - **Involve Employees:** Survey employees to gather input on mental health needs and concerns. Encouraging participation can help employees feel invested in the changes.\n",
       "   - **Partner with Mental Health Organizations:** Collaborate with mental health advocacy groups to provide resources and credibility to the initiative.\n",
       "   - **Negotiate with Employers and Unions:** Work with both employers and labor unions to develop policies beneficial for both parties, emphasizing the increased productivity and morale that comes with supporting employee mental health.\n",
       "\n",
       "**3. Address Diverse Perspectives:**\n",
       "   - **Listen to Concerns:** Create forums or focus groups where diverse stakeholders, including management, employees, and mental health professionals, can voice their opinions and concerns. Addressing fears—such as job security or potential liabilities—is crucial.\n",
       "   - **Cultural Sensitivity:** Recognize that mental health perceptions vary across cultures and communities. Tailor discussions and training to be inclusive and relevant to different backgrounds, ensuring all voices feel heard and understood.\n",
       "\n",
       "**4. Pilot Programs:**\n",
       "   - Implement a pilot program in select organizations to showcase the benefits and effectiveness of the proposed changes. Collect data and testimonials from employees and management to highlight improvements in workplace culture and productivity.\n",
       "\n",
       "By addressing the stigma surrounding mental health in the workplace through education, policy changes, and stakeholder engagement, we can create a more supportive working environment. Advocating for these changes with empathy and inclusive dialogue can help to navigate potential resistance and foster a culture of acceptance and understanding."
      ],
      "text/plain": [
       "<IPython.core.display.Markdown object>"
      ]
     },
     "metadata": {},
     "output_type": "display_data"
    }
   ],
   "source": [
    "# The API we know well\n",
    "\n",
    "model_name = \"gpt-4o-mini\"\n",
    "\n",
    "response = openai.chat.completions.create(model=model_name, messages=messages)\n",
    "answer = response.choices[0].message.content\n",
    "\n",
    "display(Markdown(answer))\n",
    "competitors.append(model_name)\n",
    "answers.append(answer)"
   ]
  },
  {
   "cell_type": "code",
   "execution_count": 9,
   "metadata": {},
   "outputs": [
    {
     "data": {
      "text/markdown": [
       "# Redesigning a Societal Norm: Mandatory Minimum Sentencing\n",
       "\n",
       "If I could redesign one harmful yet accepted practice, I'd focus on mandatory minimum sentencing laws. These predetermined, inflexible prison terms have contributed to mass incarceration while disproportionately affecting marginalized communities.\n",
       "\n",
       "## My Approach to Advocacy\n",
       "\n",
       "I would advocate for reform through:\n",
       "\n",
       "1. **Data-driven arguments**: Presenting research on how these laws have failed to reduce crime while creating significant societal costs\n",
       "\n",
       "2. **Coalition building**: Uniting diverse stakeholders including:\n",
       "   - Criminal justice reformers and civil rights organizations\n",
       "   - Fiscal conservatives concerned about prison costs\n",
       "   - Faith communities interested in redemption and second chances\n",
       "   - Law enforcement leaders seeking more effective approaches\n",
       "\n",
       "3. **Victim-centered perspective**: Ensuring reform includes improved victim services and restorative justice options\n",
       "\n",
       "## Addressing Different Stakeholders\n",
       "\n",
       "I recognize the legitimate concerns from various perspectives:\n",
       "\n",
       "- **Public safety advocates**: Emphasizing how rehabilitation and individualized sentencing can better reduce recidivism\n",
       "- **Prosecutors**: Preserving discretion while eliminating mandatory floors\n",
       "- **Communities affected by crime**: Engaging directly to ensure reforms address their safety needs\n",
       "- **Ideological opposition**: Finding common ground around fiscal responsibility and proportional justice\n",
       "\n",
       "Meaningful reform requires patience and incremental progress, with success measured not just by policy changes but by creating a more just, effective, and humane criminal justice system."
      ],
      "text/plain": [
       "<IPython.core.display.Markdown object>"
      ]
     },
     "metadata": {},
     "output_type": "display_data"
    }
   ],
   "source": [
    "# Anthropic has a slightly different API, and Max Tokens is required\n",
    "\n",
    "model_name = \"claude-3-7-sonnet-latest\"\n",
    "\n",
    "claude = Anthropic()\n",
    "response = claude.messages.create(model=model_name, messages=messages, max_tokens=1000)\n",
    "answer = response.content[0].text\n",
    "\n",
    "display(Markdown(answer))\n",
    "competitors.append(model_name)\n",
    "answers.append(answer)"
   ]
  },
  {
   "cell_type": "code",
   "execution_count": 10,
   "metadata": {},
   "outputs": [
    {
     "data": {
      "text/markdown": [
       "Okay, this is a challenging but important question. I would focus on redesigning the societal norm of **linking individual worth and value primarily to economic productivity and participation in the paid workforce.**\n",
       "\n",
       "**The Problem:**\n",
       "\n",
       "This norm manifests in several ways:\n",
       "\n",
       "*   **Emphasis on Career:**  From a young age, we are pressured to choose careers that are \"successful\" (i.e., high-paying or prestigious) rather than focusing on personal fulfillment or societal contribution outside of the market.\n",
       "*   **Devaluation of Unpaid Labor:**  Caregiving (for children, elderly, or disabled individuals), volunteer work, creative pursuits, and community building are often seen as less valuable because they don't generate direct income.\n",
       "*   **Stigma Associated with Unemployment/Underemployment:**  Individuals who are unemployed, underemployed, or unable to work due to disability or other circumstances often face social stigma and feelings of inadequacy, despite their potential contributions in other ways.\n",
       "*   **Ignoring Intrinsic Value:** This norm discounts the inherent worth of every individual, regardless of their economic output. It reinforces a system that prioritizes profit over people.\n",
       "*   **Increased Stress and Burnout:** The pressure to constantly be \"productive\" and demonstrate economic value leads to burnout, anxiety, and a decline in overall well-being.\n",
       "*   **Exacerbation of Inequality:** The system privileges those with access to education, resources, and opportunities for economic advancement, leaving others behind.\n",
       "\n",
       "**How I Would Advocate for Change:**\n",
       "\n",
       "My approach would be multifaceted, aiming for a gradual but significant shift in societal values and policies:\n",
       "\n",
       "1.  **Raising Awareness and Shifting the Narrative:**\n",
       "\n",
       "    *   **Public Education Campaigns:**  Develop campaigns through various media (social media, documentaries, public service announcements) that highlight the diverse forms of valuable contributions beyond paid work. Feature stories of individuals making a difference through caregiving, volunteerism, creative endeavors, and community initiatives. Use compelling data to show the economic and social value of unpaid labor.\n",
       "    *   **Promoting \"Human Value\" Discourse:**  Encourage discussions about the concept of inherent human worth, independent of economic productivity. Partner with philosophers, ethicists, and thought leaders to articulate alternative value systems.  Use language that is inclusive and avoids jargon.\n",
       "    *   **Challenging Harmful Language:**  Actively challenge language that reinforces the link between worth and work (e.g., \"He's just a stay-at-home dad,\" \"She's unproductive,\" \"He's a waste of space\"). Promote the use of more respectful and inclusive language.\n",
       "\n",
       "2.  **Policy Changes:**\n",
       "\n",
       "    *   **Universal Basic Income (UBI):** Advocate for UBI as a foundation that provides economic security for all, regardless of employment status. This would decouple basic survival from the need to be constantly employed.  Frame UBI not just as a welfare program, but as an investment in human potential and societal well-being.\n",
       "    *   **Valuing Care Work:**  Promote policies that recognize and support care work, such as paid parental leave, affordable childcare, and eldercare services.  Explore options for compensating caregivers through direct payments, tax credits, or other means.\n",
       "    *   **Expanding the Definition of \"Work\":**  Advocate for recognizing and valuing contributions to society beyond traditional employment. This could involve creating systems for formally acknowledging volunteer work, community service, and creative projects.\n",
       "    *   **Rethinking Economic Indicators:**  Push for alternative economic indicators that measure societal well-being beyond GDP.  Incorporate metrics related to health, education, environmental sustainability, and social cohesion.\n",
       "    *   **Supporting Flexible Work Arrangements:**  Promote policies that encourage flexible work arrangements, such as remote work, part-time work, and job sharing, to allow individuals to balance work with other responsibilities and interests.\n",
       "\n",
       "3.  **Addressing Potential Resistance:**\n",
       "\n",
       "    *   **Economic Concerns:**  Acknowledge and address concerns about the economic feasibility of these policies. Provide detailed cost analyses and demonstrate the potential economic benefits of a more equitable and sustainable system (e.g., reduced healthcare costs, increased innovation, a more engaged citizenry). Highlight the hidden costs of the current system, such as burnout, mental health issues, and inequality.\n",
       "    *   **Moral Hazard Arguments:**  Counter arguments that UBI or other support programs will disincentivize work by highlighting studies that show people still desire to contribute and find meaning in their lives, even with a basic safety net. Emphasize the importance of education, training, and support services to help individuals find fulfilling work.\n",
       "    *   **Individual Responsibility:**  Acknowledge the importance of individual responsibility while emphasizing that everyone deserves a basic level of dignity and opportunity. Frame support programs as investments in human potential, not handouts.\n",
       "    *   **Conservative Values:**  Engage with conservative stakeholders by framing some of these policies in terms of promoting family values, strengthening communities, and fostering individual freedom. For instance, UBI could be presented as a way to empower individuals to pursue their passions and contribute to society in ways that align with their values.\n",
       "    *   **Diverse Perspectives:**  Actively seek out and incorporate the perspectives of various stakeholders, including:\n",
       "        *   **Workers:** Understand their concerns about job security, wages, and working conditions.\n",
       "        *   **Employers:**  Address their concerns about productivity, profitability, and the impact on their businesses.\n",
       "        *   **Caregivers:**  Recognize their unique challenges and provide them with the support they need.\n",
       "        *   **People with Disabilities:**  Ensure that policies are inclusive and address their specific needs.\n",
       "        *   **Marginalized Communities:**  Address the systemic inequalities that disproportionately affect them.\n",
       "\n",
       "4.  **Building a Coalition:**\n",
       "\n",
       "    *   **Engage diverse groups:**  Form a broad coalition of advocates, including labor unions, community organizations, environmental groups, disability rights organizations, and faith-based organizations.\n",
       "    *   **Grassroots activism:**  Encourage grassroots activism to raise awareness and pressure policymakers to take action.\n",
       "    *   **Cross-party appeal:**  Frame the issue in a way that appeals to people across the political spectrum.\n",
       "\n",
       "**Challenges:**\n",
       "\n",
       "*   **Deeply entrenched beliefs:**  Changing deeply ingrained societal norms is a slow and challenging process.\n",
       "*   **Economic inequality:**  Addressing economic inequality is essential for creating a more equitable and just society.\n",
       "*   **Political polarization:**  Overcoming political polarization is crucial for building consensus around these issues.\n",
       "*   **Resistance from vested interests:**  Powerful economic interests may resist policies that challenge the status quo.\n",
       "\n",
       "**Ultimately, the goal is to create a society where every individual is valued for their inherent worth and where people are empowered to contribute to society in diverse and meaningful ways, regardless of their economic productivity.** This requires a fundamental shift in values, policies, and institutions, and a commitment to creating a more just and equitable world for all. This wouldn't be a quick fix, but a long-term project requiring persistent effort and collaboration.\n"
      ],
      "text/plain": [
       "<IPython.core.display.Markdown object>"
      ]
     },
     "metadata": {},
     "output_type": "display_data"
    }
   ],
   "source": [
    "gemini = OpenAI(api_key=google_api_key, base_url=\"https://generativelanguage.googleapis.com/v1beta/openai/\")\n",
    "model_name = \"gemini-2.0-flash\"\n",
    "\n",
    "response = gemini.chat.completions.create(model=model_name, messages=messages)\n",
    "answer = response.choices[0].message.content\n",
    "\n",
    "display(Markdown(answer))\n",
    "competitors.append(model_name)\n",
    "answers.append(answer)"
   ]
  },
  {
   "cell_type": "code",
   "execution_count": null,
   "metadata": {},
   "outputs": [],
   "source": [
    "deepseek = OpenAI(api_key=deepseek_api_key, base_url=\"https://api.deepseek.com/v1\")\n",
    "model_name = \"deepseek-chat\"\n",
    "\n",
    "response = deepseek.chat.completions.create(model=model_name, messages=messages)\n",
    "answer = response.choices[0].message.content\n",
    "\n",
    "display(Markdown(answer))\n",
    "competitors.append(model_name)\n",
    "answers.append(answer)"
   ]
  },
  {
   "cell_type": "code",
   "execution_count": null,
   "metadata": {},
   "outputs": [],
   "source": [
    "groq = OpenAI(api_key=groq_api_key, base_url=\"https://api.groq.com/openai/v1\")\n",
    "model_name = \"llama-3.3-70b-versatile\"\n",
    "\n",
    "response = groq.chat.completions.create(model=model_name, messages=messages)\n",
    "answer = response.choices[0].message.content\n",
    "\n",
    "display(Markdown(answer))\n",
    "competitors.append(model_name)\n",
    "answers.append(answer)\n"
   ]
  },
  {
   "cell_type": "markdown",
   "metadata": {},
   "source": [
    "## For the next cell, we will use Ollama\n",
    "\n",
    "Ollama runs a local web service that gives an OpenAI compatible endpoint,  \n",
    "and runs models locally using high performance C++ code.\n",
    "\n",
    "If you don't have Ollama, install it here by visiting https://ollama.com then pressing Download and following the instructions.\n",
    "\n",
    "After it's installed, you should be able to visit here: http://localhost:11434 and see the message \"Ollama is running\"\n",
    "\n",
    "You might need to restart Cursor (and maybe reboot). Then open a Terminal (control+\\`) and run `ollama serve`\n",
    "\n",
    "Useful Ollama commands (run these in the terminal, or with an exclamation mark in this notebook):\n",
    "\n",
    "`ollama pull <model_name>` downloads a model locally  \n",
    "`ollama ls` lists all the models you've downloaded  \n",
    "`ollama rm <model_name>` deletes the specified model from your downloads"
   ]
  },
  {
   "cell_type": "markdown",
   "metadata": {},
   "source": [
    "<table style=\"margin: 0; text-align: left; width:100%\">\n",
    "    <tr>\n",
    "        <td style=\"width: 150px; height: 150px; vertical-align: middle;\">\n",
    "            <img src=\"../assets/stop.png\" width=\"150\" height=\"150\" style=\"display: block;\" />\n",
    "        </td>\n",
    "        <td>\n",
    "            <h2 style=\"color:#ff7800;\">Super important - ignore me at your peril!</h2>\n",
    "            <span style=\"color:#ff7800;\">The model called <b>llama3.3</b> is FAR too large for home computers - it's not intended for personal computing and will consume all your resources! Stick with the nicely sized <b>llama3.2</b> or <b>llama3.2:1b</b> and if you want larger, try llama3.1 or smaller variants of Qwen, Gemma, Phi or DeepSeek. See the <A href=\"https://ollama.com/models\">the Ollama models page</a> for a full list of models and sizes.\n",
    "            </span>\n",
    "        </td>\n",
    "    </tr>\n",
    "</table>"
   ]
  },
  {
   "cell_type": "code",
   "execution_count": null,
   "metadata": {},
   "outputs": [],
   "source": [
    "!ollama pull llama3.2"
   ]
  },
  {
   "cell_type": "code",
   "execution_count": null,
   "metadata": {},
   "outputs": [],
   "source": [
    "ollama = OpenAI(base_url='http://localhost:11434/v1', api_key='ollama')\n",
    "model_name = \"llama3.2\"\n",
    "\n",
    "response = ollama.chat.completions.create(model=model_name, messages=messages)\n",
    "answer = response.choices[0].message.content\n",
    "\n",
    "display(Markdown(answer))\n",
    "competitors.append(model_name)\n",
    "answers.append(answer)"
   ]
  },
  {
   "cell_type": "code",
   "execution_count": 14,
   "metadata": {},
   "outputs": [
    {
     "name": "stdout",
     "output_type": "stream",
     "text": [
      "['gpt-4o-mini', 'claude-3-7-sonnet-latest', 'gemini-2.0-flash']\n",
      "['One societal norm that could benefit from re-evaluation is the stigma surrounding mental health issues, particularly in the workplace. This stigma often leads to discrimination, lack of support, and inadequate policies for employees suffering from mental health challenges. A potential redesign of this norm would involve promoting a culture of openness and support surrounding mental health, thereby normalizing discussions and providing necessary resources.\\n\\n### Redesign Proposal:\\n**1. Mandated Mental Health Training:** Require organizations to provide mental health training for all employees, promoting awareness and understanding of mental health issues. This training would educate workers on recognizing signs of mental health struggles in themselves and others and provide strategies to offer support.\\n\\n**2. Flexible Mental Health Policies:** Advocate for policies that allow for mental health days off, just like physical health days, and promote flexible working hours to accommodate individuals seeking treatment or needing time for self-care.\\n\\n**3. Establish a Support System:** Create a peer support program within organizations, allowing employees to discuss their mental health concerns in a safe, confidential space. This could include trained volunteers or mental health champions from within the company.\\n\\n### Advocacy Strategy:\\n**1. Grassroots Campaigns:**\\n   - **Workshops and Seminars:** Organize community workshops and seminars aimed at educating individuals on mental health, inviting mental health professionals to speak and share their insights.\\n   - **Leverage Social Media:** Launch a campaign using platforms like Twitter, Instagram, and TikTok to share stories and raise awareness about mental health, using hashtags to connect and build a community.\\n\\n**2. Engage Stakeholders:**\\n   - **Involve Employees:** Survey employees to gather input on mental health needs and concerns. Encouraging participation can help employees feel invested in the changes.\\n   - **Partner with Mental Health Organizations:** Collaborate with mental health advocacy groups to provide resources and credibility to the initiative.\\n   - **Negotiate with Employers and Unions:** Work with both employers and labor unions to develop policies beneficial for both parties, emphasizing the increased productivity and morale that comes with supporting employee mental health.\\n\\n**3. Address Diverse Perspectives:**\\n   - **Listen to Concerns:** Create forums or focus groups where diverse stakeholders, including management, employees, and mental health professionals, can voice their opinions and concerns. Addressing fears—such as job security or potential liabilities—is crucial.\\n   - **Cultural Sensitivity:** Recognize that mental health perceptions vary across cultures and communities. Tailor discussions and training to be inclusive and relevant to different backgrounds, ensuring all voices feel heard and understood.\\n\\n**4. Pilot Programs:**\\n   - Implement a pilot program in select organizations to showcase the benefits and effectiveness of the proposed changes. Collect data and testimonials from employees and management to highlight improvements in workplace culture and productivity.\\n\\nBy addressing the stigma surrounding mental health in the workplace through education, policy changes, and stakeholder engagement, we can create a more supportive working environment. Advocating for these changes with empathy and inclusive dialogue can help to navigate potential resistance and foster a culture of acceptance and understanding.', \"# Redesigning a Societal Norm: Mandatory Minimum Sentencing\\n\\nIf I could redesign one harmful yet accepted practice, I'd focus on mandatory minimum sentencing laws. These predetermined, inflexible prison terms have contributed to mass incarceration while disproportionately affecting marginalized communities.\\n\\n## My Approach to Advocacy\\n\\nI would advocate for reform through:\\n\\n1. **Data-driven arguments**: Presenting research on how these laws have failed to reduce crime while creating significant societal costs\\n\\n2. **Coalition building**: Uniting diverse stakeholders including:\\n   - Criminal justice reformers and civil rights organizations\\n   - Fiscal conservatives concerned about prison costs\\n   - Faith communities interested in redemption and second chances\\n   - Law enforcement leaders seeking more effective approaches\\n\\n3. **Victim-centered perspective**: Ensuring reform includes improved victim services and restorative justice options\\n\\n## Addressing Different Stakeholders\\n\\nI recognize the legitimate concerns from various perspectives:\\n\\n- **Public safety advocates**: Emphasizing how rehabilitation and individualized sentencing can better reduce recidivism\\n- **Prosecutors**: Preserving discretion while eliminating mandatory floors\\n- **Communities affected by crime**: Engaging directly to ensure reforms address their safety needs\\n- **Ideological opposition**: Finding common ground around fiscal responsibility and proportional justice\\n\\nMeaningful reform requires patience and incremental progress, with success measured not just by policy changes but by creating a more just, effective, and humane criminal justice system.\", 'Okay, this is a challenging but important question. I would focus on redesigning the societal norm of **linking individual worth and value primarily to economic productivity and participation in the paid workforce.**\\n\\n**The Problem:**\\n\\nThis norm manifests in several ways:\\n\\n*   **Emphasis on Career:**  From a young age, we are pressured to choose careers that are \"successful\" (i.e., high-paying or prestigious) rather than focusing on personal fulfillment or societal contribution outside of the market.\\n*   **Devaluation of Unpaid Labor:**  Caregiving (for children, elderly, or disabled individuals), volunteer work, creative pursuits, and community building are often seen as less valuable because they don\\'t generate direct income.\\n*   **Stigma Associated with Unemployment/Underemployment:**  Individuals who are unemployed, underemployed, or unable to work due to disability or other circumstances often face social stigma and feelings of inadequacy, despite their potential contributions in other ways.\\n*   **Ignoring Intrinsic Value:** This norm discounts the inherent worth of every individual, regardless of their economic output. It reinforces a system that prioritizes profit over people.\\n*   **Increased Stress and Burnout:** The pressure to constantly be \"productive\" and demonstrate economic value leads to burnout, anxiety, and a decline in overall well-being.\\n*   **Exacerbation of Inequality:** The system privileges those with access to education, resources, and opportunities for economic advancement, leaving others behind.\\n\\n**How I Would Advocate for Change:**\\n\\nMy approach would be multifaceted, aiming for a gradual but significant shift in societal values and policies:\\n\\n1.  **Raising Awareness and Shifting the Narrative:**\\n\\n    *   **Public Education Campaigns:**  Develop campaigns through various media (social media, documentaries, public service announcements) that highlight the diverse forms of valuable contributions beyond paid work. Feature stories of individuals making a difference through caregiving, volunteerism, creative endeavors, and community initiatives. Use compelling data to show the economic and social value of unpaid labor.\\n    *   **Promoting \"Human Value\" Discourse:**  Encourage discussions about the concept of inherent human worth, independent of economic productivity. Partner with philosophers, ethicists, and thought leaders to articulate alternative value systems.  Use language that is inclusive and avoids jargon.\\n    *   **Challenging Harmful Language:**  Actively challenge language that reinforces the link between worth and work (e.g., \"He\\'s just a stay-at-home dad,\" \"She\\'s unproductive,\" \"He\\'s a waste of space\"). Promote the use of more respectful and inclusive language.\\n\\n2.  **Policy Changes:**\\n\\n    *   **Universal Basic Income (UBI):** Advocate for UBI as a foundation that provides economic security for all, regardless of employment status. This would decouple basic survival from the need to be constantly employed.  Frame UBI not just as a welfare program, but as an investment in human potential and societal well-being.\\n    *   **Valuing Care Work:**  Promote policies that recognize and support care work, such as paid parental leave, affordable childcare, and eldercare services.  Explore options for compensating caregivers through direct payments, tax credits, or other means.\\n    *   **Expanding the Definition of \"Work\":**  Advocate for recognizing and valuing contributions to society beyond traditional employment. This could involve creating systems for formally acknowledging volunteer work, community service, and creative projects.\\n    *   **Rethinking Economic Indicators:**  Push for alternative economic indicators that measure societal well-being beyond GDP.  Incorporate metrics related to health, education, environmental sustainability, and social cohesion.\\n    *   **Supporting Flexible Work Arrangements:**  Promote policies that encourage flexible work arrangements, such as remote work, part-time work, and job sharing, to allow individuals to balance work with other responsibilities and interests.\\n\\n3.  **Addressing Potential Resistance:**\\n\\n    *   **Economic Concerns:**  Acknowledge and address concerns about the economic feasibility of these policies. Provide detailed cost analyses and demonstrate the potential economic benefits of a more equitable and sustainable system (e.g., reduced healthcare costs, increased innovation, a more engaged citizenry). Highlight the hidden costs of the current system, such as burnout, mental health issues, and inequality.\\n    *   **Moral Hazard Arguments:**  Counter arguments that UBI or other support programs will disincentivize work by highlighting studies that show people still desire to contribute and find meaning in their lives, even with a basic safety net. Emphasize the importance of education, training, and support services to help individuals find fulfilling work.\\n    *   **Individual Responsibility:**  Acknowledge the importance of individual responsibility while emphasizing that everyone deserves a basic level of dignity and opportunity. Frame support programs as investments in human potential, not handouts.\\n    *   **Conservative Values:**  Engage with conservative stakeholders by framing some of these policies in terms of promoting family values, strengthening communities, and fostering individual freedom. For instance, UBI could be presented as a way to empower individuals to pursue their passions and contribute to society in ways that align with their values.\\n    *   **Diverse Perspectives:**  Actively seek out and incorporate the perspectives of various stakeholders, including:\\n        *   **Workers:** Understand their concerns about job security, wages, and working conditions.\\n        *   **Employers:**  Address their concerns about productivity, profitability, and the impact on their businesses.\\n        *   **Caregivers:**  Recognize their unique challenges and provide them with the support they need.\\n        *   **People with Disabilities:**  Ensure that policies are inclusive and address their specific needs.\\n        *   **Marginalized Communities:**  Address the systemic inequalities that disproportionately affect them.\\n\\n4.  **Building a Coalition:**\\n\\n    *   **Engage diverse groups:**  Form a broad coalition of advocates, including labor unions, community organizations, environmental groups, disability rights organizations, and faith-based organizations.\\n    *   **Grassroots activism:**  Encourage grassroots activism to raise awareness and pressure policymakers to take action.\\n    *   **Cross-party appeal:**  Frame the issue in a way that appeals to people across the political spectrum.\\n\\n**Challenges:**\\n\\n*   **Deeply entrenched beliefs:**  Changing deeply ingrained societal norms is a slow and challenging process.\\n*   **Economic inequality:**  Addressing economic inequality is essential for creating a more equitable and just society.\\n*   **Political polarization:**  Overcoming political polarization is crucial for building consensus around these issues.\\n*   **Resistance from vested interests:**  Powerful economic interests may resist policies that challenge the status quo.\\n\\n**Ultimately, the goal is to create a society where every individual is valued for their inherent worth and where people are empowered to contribute to society in diverse and meaningful ways, regardless of their economic productivity.** This requires a fundamental shift in values, policies, and institutions, and a commitment to creating a more just and equitable world for all. This wouldn\\'t be a quick fix, but a long-term project requiring persistent effort and collaboration.\\n']\n"
     ]
    }
   ],
   "source": [
    "# So where are we?\n",
    "\n",
    "print(competitors)\n",
    "print(answers)\n"
   ]
  },
  {
   "cell_type": "code",
   "execution_count": null,
   "metadata": {},
   "outputs": [
    {
     "data": {
      "text/markdown": [
       "One societal norm that could benefit from re-evaluation is the stigma surrounding mental health issues, particularly in the workplace. This stigma often leads to discrimination, lack of support, and inadequate policies for employees suffering from mental health challenges. A potential redesign of this norm would involve promoting a culture of openness and support surrounding mental health, thereby normalizing discussions and providing necessary resources.\n",
       "\n",
       "### Redesign Proposal:\n",
       "**1. Mandated Mental Health Training:** Require organizations to provide mental health training for all employees, promoting awareness and understanding of mental health issues. This training would educate workers on recognizing signs of mental health struggles in themselves and others and provide strategies to offer support.\n",
       "\n",
       "**2. Flexible Mental Health Policies:** Advocate for policies that allow for mental health days off, just like physical health days, and promote flexible working hours to accommodate individuals seeking treatment or needing time for self-care.\n",
       "\n",
       "**3. Establish a Support System:** Create a peer support program within organizations, allowing employees to discuss their mental health concerns in a safe, confidential space. This could include trained volunteers or mental health champions from within the company.\n",
       "\n",
       "### Advocacy Strategy:\n",
       "**1. Grassroots Campaigns:**\n",
       "   - **Workshops and Seminars:** Organize community workshops and seminars aimed at educating individuals on mental health, inviting mental health professionals to speak and share their insights.\n",
       "   - **Leverage Social Media:** Launch a campaign using platforms like Twitter, Instagram, and TikTok to share stories and raise awareness about mental health, using hashtags to connect and build a community.\n",
       "\n",
       "**2. Engage Stakeholders:**\n",
       "   - **Involve Employees:** Survey employees to gather input on mental health needs and concerns. Encouraging participation can help employees feel invested in the changes.\n",
       "   - **Partner with Mental Health Organizations:** Collaborate with mental health advocacy groups to provide resources and credibility to the initiative.\n",
       "   - **Negotiate with Employers and Unions:** Work with both employers and labor unions to develop policies beneficial for both parties, emphasizing the increased productivity and morale that comes with supporting employee mental health.\n",
       "\n",
       "**3. Address Diverse Perspectives:**\n",
       "   - **Listen to Concerns:** Create forums or focus groups where diverse stakeholders, including management, employees, and mental health professionals, can voice their opinions and concerns. Addressing fears—such as job security or potential liabilities—is crucial.\n",
       "   - **Cultural Sensitivity:** Recognize that mental health perceptions vary across cultures and communities. Tailor discussions and training to be inclusive and relevant to different backgrounds, ensuring all voices feel heard and understood.\n",
       "\n",
       "**4. Pilot Programs:**\n",
       "   - Implement a pilot program in select organizations to showcase the benefits and effectiveness of the proposed changes. Collect data and testimonials from employees and management to highlight improvements in workplace culture and productivity.\n",
       "\n",
       "By addressing the stigma surrounding mental health in the workplace through education, policy changes, and stakeholder engagement, we can create a more supportive working environment. Advocating for these changes with empathy and inclusive dialogue can help to navigate potential resistance and foster a culture of acceptance and understanding."
      ],
      "text/plain": [
       "<IPython.core.display.Markdown object>"
      ]
     },
     "metadata": {},
     "output_type": "display_data"
    },
    {
     "name": "stdout",
     "output_type": "stream",
     "text": [
      "Competitor: gpt-4o-mini\n",
      "\n",
      "None\n"
     ]
    },
    {
     "data": {
      "text/markdown": [
       "# Redesigning a Societal Norm: Mandatory Minimum Sentencing\n",
       "\n",
       "If I could redesign one harmful yet accepted practice, I'd focus on mandatory minimum sentencing laws. These predetermined, inflexible prison terms have contributed to mass incarceration while disproportionately affecting marginalized communities.\n",
       "\n",
       "## My Approach to Advocacy\n",
       "\n",
       "I would advocate for reform through:\n",
       "\n",
       "1. **Data-driven arguments**: Presenting research on how these laws have failed to reduce crime while creating significant societal costs\n",
       "\n",
       "2. **Coalition building**: Uniting diverse stakeholders including:\n",
       "   - Criminal justice reformers and civil rights organizations\n",
       "   - Fiscal conservatives concerned about prison costs\n",
       "   - Faith communities interested in redemption and second chances\n",
       "   - Law enforcement leaders seeking more effective approaches\n",
       "\n",
       "3. **Victim-centered perspective**: Ensuring reform includes improved victim services and restorative justice options\n",
       "\n",
       "## Addressing Different Stakeholders\n",
       "\n",
       "I recognize the legitimate concerns from various perspectives:\n",
       "\n",
       "- **Public safety advocates**: Emphasizing how rehabilitation and individualized sentencing can better reduce recidivism\n",
       "- **Prosecutors**: Preserving discretion while eliminating mandatory floors\n",
       "- **Communities affected by crime**: Engaging directly to ensure reforms address their safety needs\n",
       "- **Ideological opposition**: Finding common ground around fiscal responsibility and proportional justice\n",
       "\n",
       "Meaningful reform requires patience and incremental progress, with success measured not just by policy changes but by creating a more just, effective, and humane criminal justice system."
      ],
      "text/plain": [
       "<IPython.core.display.Markdown object>"
      ]
     },
     "metadata": {},
     "output_type": "display_data"
    },
    {
     "name": "stdout",
     "output_type": "stream",
     "text": [
      "Competitor: claude-3-7-sonnet-latest\n",
      "\n",
      "None\n"
     ]
    },
    {
     "data": {
      "text/markdown": [
       "Okay, this is a challenging but important question. I would focus on redesigning the societal norm of **linking individual worth and value primarily to economic productivity and participation in the paid workforce.**\n",
       "\n",
       "**The Problem:**\n",
       "\n",
       "This norm manifests in several ways:\n",
       "\n",
       "*   **Emphasis on Career:**  From a young age, we are pressured to choose careers that are \"successful\" (i.e., high-paying or prestigious) rather than focusing on personal fulfillment or societal contribution outside of the market.\n",
       "*   **Devaluation of Unpaid Labor:**  Caregiving (for children, elderly, or disabled individuals), volunteer work, creative pursuits, and community building are often seen as less valuable because they don't generate direct income.\n",
       "*   **Stigma Associated with Unemployment/Underemployment:**  Individuals who are unemployed, underemployed, or unable to work due to disability or other circumstances often face social stigma and feelings of inadequacy, despite their potential contributions in other ways.\n",
       "*   **Ignoring Intrinsic Value:** This norm discounts the inherent worth of every individual, regardless of their economic output. It reinforces a system that prioritizes profit over people.\n",
       "*   **Increased Stress and Burnout:** The pressure to constantly be \"productive\" and demonstrate economic value leads to burnout, anxiety, and a decline in overall well-being.\n",
       "*   **Exacerbation of Inequality:** The system privileges those with access to education, resources, and opportunities for economic advancement, leaving others behind.\n",
       "\n",
       "**How I Would Advocate for Change:**\n",
       "\n",
       "My approach would be multifaceted, aiming for a gradual but significant shift in societal values and policies:\n",
       "\n",
       "1.  **Raising Awareness and Shifting the Narrative:**\n",
       "\n",
       "    *   **Public Education Campaigns:**  Develop campaigns through various media (social media, documentaries, public service announcements) that highlight the diverse forms of valuable contributions beyond paid work. Feature stories of individuals making a difference through caregiving, volunteerism, creative endeavors, and community initiatives. Use compelling data to show the economic and social value of unpaid labor.\n",
       "    *   **Promoting \"Human Value\" Discourse:**  Encourage discussions about the concept of inherent human worth, independent of economic productivity. Partner with philosophers, ethicists, and thought leaders to articulate alternative value systems.  Use language that is inclusive and avoids jargon.\n",
       "    *   **Challenging Harmful Language:**  Actively challenge language that reinforces the link between worth and work (e.g., \"He's just a stay-at-home dad,\" \"She's unproductive,\" \"He's a waste of space\"). Promote the use of more respectful and inclusive language.\n",
       "\n",
       "2.  **Policy Changes:**\n",
       "\n",
       "    *   **Universal Basic Income (UBI):** Advocate for UBI as a foundation that provides economic security for all, regardless of employment status. This would decouple basic survival from the need to be constantly employed.  Frame UBI not just as a welfare program, but as an investment in human potential and societal well-being.\n",
       "    *   **Valuing Care Work:**  Promote policies that recognize and support care work, such as paid parental leave, affordable childcare, and eldercare services.  Explore options for compensating caregivers through direct payments, tax credits, or other means.\n",
       "    *   **Expanding the Definition of \"Work\":**  Advocate for recognizing and valuing contributions to society beyond traditional employment. This could involve creating systems for formally acknowledging volunteer work, community service, and creative projects.\n",
       "    *   **Rethinking Economic Indicators:**  Push for alternative economic indicators that measure societal well-being beyond GDP.  Incorporate metrics related to health, education, environmental sustainability, and social cohesion.\n",
       "    *   **Supporting Flexible Work Arrangements:**  Promote policies that encourage flexible work arrangements, such as remote work, part-time work, and job sharing, to allow individuals to balance work with other responsibilities and interests.\n",
       "\n",
       "3.  **Addressing Potential Resistance:**\n",
       "\n",
       "    *   **Economic Concerns:**  Acknowledge and address concerns about the economic feasibility of these policies. Provide detailed cost analyses and demonstrate the potential economic benefits of a more equitable and sustainable system (e.g., reduced healthcare costs, increased innovation, a more engaged citizenry). Highlight the hidden costs of the current system, such as burnout, mental health issues, and inequality.\n",
       "    *   **Moral Hazard Arguments:**  Counter arguments that UBI or other support programs will disincentivize work by highlighting studies that show people still desire to contribute and find meaning in their lives, even with a basic safety net. Emphasize the importance of education, training, and support services to help individuals find fulfilling work.\n",
       "    *   **Individual Responsibility:**  Acknowledge the importance of individual responsibility while emphasizing that everyone deserves a basic level of dignity and opportunity. Frame support programs as investments in human potential, not handouts.\n",
       "    *   **Conservative Values:**  Engage with conservative stakeholders by framing some of these policies in terms of promoting family values, strengthening communities, and fostering individual freedom. For instance, UBI could be presented as a way to empower individuals to pursue their passions and contribute to society in ways that align with their values.\n",
       "    *   **Diverse Perspectives:**  Actively seek out and incorporate the perspectives of various stakeholders, including:\n",
       "        *   **Workers:** Understand their concerns about job security, wages, and working conditions.\n",
       "        *   **Employers:**  Address their concerns about productivity, profitability, and the impact on their businesses.\n",
       "        *   **Caregivers:**  Recognize their unique challenges and provide them with the support they need.\n",
       "        *   **People with Disabilities:**  Ensure that policies are inclusive and address their specific needs.\n",
       "        *   **Marginalized Communities:**  Address the systemic inequalities that disproportionately affect them.\n",
       "\n",
       "4.  **Building a Coalition:**\n",
       "\n",
       "    *   **Engage diverse groups:**  Form a broad coalition of advocates, including labor unions, community organizations, environmental groups, disability rights organizations, and faith-based organizations.\n",
       "    *   **Grassroots activism:**  Encourage grassroots activism to raise awareness and pressure policymakers to take action.\n",
       "    *   **Cross-party appeal:**  Frame the issue in a way that appeals to people across the political spectrum.\n",
       "\n",
       "**Challenges:**\n",
       "\n",
       "*   **Deeply entrenched beliefs:**  Changing deeply ingrained societal norms is a slow and challenging process.\n",
       "*   **Economic inequality:**  Addressing economic inequality is essential for creating a more equitable and just society.\n",
       "*   **Political polarization:**  Overcoming political polarization is crucial for building consensus around these issues.\n",
       "*   **Resistance from vested interests:**  Powerful economic interests may resist policies that challenge the status quo.\n",
       "\n",
       "**Ultimately, the goal is to create a society where every individual is valued for their inherent worth and where people are empowered to contribute to society in diverse and meaningful ways, regardless of their economic productivity.** This requires a fundamental shift in values, policies, and institutions, and a commitment to creating a more just and equitable world for all. This wouldn't be a quick fix, but a long-term project requiring persistent effort and collaboration.\n"
      ],
      "text/plain": [
       "<IPython.core.display.Markdown object>"
      ]
     },
     "metadata": {},
     "output_type": "display_data"
    },
    {
     "name": "stdout",
     "output_type": "stream",
     "text": [
      "Competitor: gemini-2.0-flash\n",
      "\n",
      "None\n"
     ]
    }
   ],
   "source": [
    "# It's nice to know how to use \"zip\"\n",
    "for competitor, answer in zip(competitors, answers):\n",
    "    print(f\"Competitor: {competitor}\\n\\n{answer}\")\n"
   ]
  },
  {
   "cell_type": "code",
   "execution_count": 20,
   "metadata": {},
   "outputs": [],
   "source": [
    "# Let's bring this together - note the use of \"enumerate\"\n",
    "\n",
    "together = \"\"\n",
    "for index, answer in enumerate(answers):\n",
    "    together += f\"# Response from competitor {index+1}\\n\\n\"\n",
    "    together += answer + \"\\n\\n\""
   ]
  },
  {
   "cell_type": "code",
   "execution_count": null,
   "metadata": {},
   "outputs": [],
   "source": [
    "print(together)"
   ]
  },
  {
   "cell_type": "code",
   "execution_count": 22,
   "metadata": {},
   "outputs": [],
   "source": [
    "judge = f\"\"\"You are judging a competition between {len(competitors)} competitors.\n",
    "Each model has been given this question:\n",
    "\n",
    "{question}\n",
    "\n",
    "Your job is to evaluate each response for clarity and strength of argument, and rank them in order of best to worst.\n",
    "Respond with JSON, and only JSON, with the following format:\n",
    "{{\"results\": [\"best competitor number\", \"second best competitor number\", \"third best competitor number\", ...]}}\n",
    "\n",
    "Here are the responses from each competitor:\n",
    "\n",
    "{together}\n",
    "\n",
    "Now respond with the JSON with the ranked order of the competitors, nothing else. Do not include markdown formatting or code blocks.\"\"\"\n"
   ]
  },
  {
   "cell_type": "code",
   "execution_count": null,
   "metadata": {},
   "outputs": [],
   "source": [
    "print(judge)"
   ]
  },
  {
   "cell_type": "code",
   "execution_count": 29,
   "metadata": {},
   "outputs": [],
   "source": [
    "judge_messages = [{\"role\": \"user\", \"content\": judge}]"
   ]
  },
  {
   "cell_type": "code",
   "execution_count": null,
   "metadata": {},
   "outputs": [],
   "source": [
    "# Judgement time!\n",
    "\n",
    "openai = OpenAI()\n",
    "response = openai.chat.completions.create(\n",
    "    model=\"o3-mini\",\n",
    "    messages=judge_messages,\n",
    ")\n",
    "results = response.choices[0].message.content\n",
    "print(results)\n"
   ]
  },
  {
   "cell_type": "code",
   "execution_count": null,
   "metadata": {},
   "outputs": [],
   "source": [
    "# OK let's turn this into results!\n",
    "\n",
    "results_dict = json.loads(results)\n",
    "ranks = results_dict[\"results\"]\n",
    "for index, result in enumerate(ranks):\n",
    "    competitor = competitors[int(result)-1]\n",
    "    print(f\"Rank {index+1}: {competitor}\")"
   ]
  },
  {
   "cell_type": "markdown",
   "metadata": {},
   "source": [
    "<table style=\"margin: 0; text-align: left; width:100%\">\n",
    "    <tr>\n",
    "        <td style=\"width: 150px; height: 150px; vertical-align: middle;\">\n",
    "            <img src=\"../assets/exercise.png\" width=\"150\" height=\"150\" style=\"display: block;\" />\n",
    "        </td>\n",
    "        <td>\n",
    "            <h2 style=\"color:#ff7800;\">Exercise</h2>\n",
    "            <span style=\"color:#ff7800;\">Which pattern(s) did this use? Try updating this to add another Agentic design pattern.\n",
    "            </span>\n",
    "        </td>\n",
    "    </tr>\n",
    "</table>"
   ]
  },
  {
   "cell_type": "markdown",
   "metadata": {},
   "source": [
    "<table style=\"margin: 0; text-align: left; width:100%\">\n",
    "    <tr>\n",
    "        <td style=\"width: 150px; height: 150px; vertical-align: middle;\">\n",
    "            <img src=\"../assets/business.png\" width=\"150\" height=\"150\" style=\"display: block;\" />\n",
    "        </td>\n",
    "        <td>\n",
    "            <h2 style=\"color:#00bfff;\">Commercial implications</h2>\n",
    "            <span style=\"color:#00bfff;\">These kinds of patterns - to send a task to multiple models, and evaluate results,\n",
    "            are common where you need to improve the quality of your LLM response. This approach can be universally applied\n",
    "            to business projects where accuracy is critical.\n",
    "            </span>\n",
    "        </td>\n",
    "    </tr>\n",
    "</table>"
   ]
  }
 ],
 "metadata": {
  "kernelspec": {
   "display_name": "agents (3.12.7)",
   "language": "python",
   "name": "python3"
  },
  "language_info": {
   "codemirror_mode": {
    "name": "ipython",
    "version": 3
   },
   "file_extension": ".py",
   "mimetype": "text/x-python",
   "name": "python",
   "nbconvert_exporter": "python",
   "pygments_lexer": "ipython3",
   "version": "3.12.7"
  }
 },
 "nbformat": 4,
 "nbformat_minor": 2
}
